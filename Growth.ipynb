{
 "cells": [
  {
   "cell_type": "code",
   "execution_count": 1,
   "metadata": {
    "collapsed": true
   },
   "outputs": [],
   "source": [
    "import org.apache.spark.rdd.RDD\n",
    "import org.apache.spark.SparkContext\n",
    "import geotrellis.shapefile.ShapeFileReader\n",
    "import geotrellis.spark._\n",
    "import geotrellis.raster._\n",
    "import org.apache.spark.sql.{Dataset, SparkSession}\n",
    "import geotrellis.vector._"
   ]
  },
  {
   "cell_type": "code",
   "execution_count": 2,
   "metadata": {
    "collapsed": true
   },
   "outputs": [],
   "source": [
    "import edu.upf.inequality.pipeline.GroupByShape._\n",
    "import edu.upf.inequality.pipeline.IO._\n",
    "import edu.upf.inequality.pipeline.Growth._\n",
    "import edu.upf.inequality.pipeline.Wealth._"
   ]
  },
  {
   "cell_type": "code",
   "execution_count": 8,
   "metadata": {
    "collapsed": true
   },
   "outputs": [],
   "source": [
    "implicit val isc = sc\n",
    "val Array(tilePath, shapeKey, shapeId, maxTileSize, nlKeyA, nlKeyB, popKey, crush, topCode, outFile) = Array(\"upf-inequality-raw-geotifs\", \"municipalities/2006-int.tif\", \"false\", \"256\", \"2012-float.tif\", \"2013-float.tif\", \"pop-2013-float.tif\", \"4\", \"99999999\", \"growth-out-2\")"
   ]
  },
  {
   "cell_type": "code",
   "execution_count": 4,
   "metadata": {},
   "outputs": [
    {
     "data": {
      "text/plain": [
       "Name: java.lang.InterruptedException\n",
       "Message: null\n",
       "StackTrace:   at java.util.concurrent.locks.AbstractQueuedSynchronizer.doAcquireSharedInterruptibly(AbstractQueuedSynchronizer.java:998)\n",
       "  at java.util.concurrent.locks.AbstractQueuedSynchronizer.acquireSharedInterruptibly(AbstractQueuedSynchronizer.java:1304)\n",
       "  at scala.concurrent.impl.Promise$DefaultPromise.tryAwait(Promise.scala:202)\n",
       "  at scala.concurrent.impl.Promise$DefaultPromise.ready(Promise.scala:218)\n",
       "  at scala.concurrent.impl.Promise$DefaultPromise.ready(Promise.scala:153)\n",
       "  at org.apache.spark.scheduler.DAGScheduler.runJob(DAGScheduler.scala:619)\n",
       "  at org.apache.spark.SparkContext.runJob(SparkContext.scala:1918)\n",
       "  at org.apache.spark.SparkContext.runJob(SparkContext.scala:1981)\n",
       "  at org.apache.spark.rdd.RDD$$anonfun$reduce$1.apply(RDD.scala:1025)\n",
       "  at org.apache.spark.rdd.RDDOperationScope$.withScope(RDDOperationScope.scala:151)\n",
       "  at org.apache.spark.rdd.RDDOperationScope$.withScope(RDDOperationScope.scala:112)\n",
       "  at org.apache.spark.rdd.RDD.withScope(RDD.scala:362)\n",
       "  at org.apache.spark.rdd.RDD.reduce(RDD.scala:1007)\n",
       "  at geotrellis.spark.TileLayerMetadata$.collectMetadataWithCRS(TileLayerMetadata.scala:147)\n",
       "  at geotrellis.spark.TileLayerMetadata$.fromRdd(TileLayerMetadata.scala:237)\n",
       "  at geotrellis.spark.package$withCollectMetadataMethods.collectMetadata(package.scala:190)\n",
       "  at edu.upf.inequality.pipeline.IO$.readRDD(IO.scala:32)"
      ]
     },
     "execution_count": 4,
     "metadata": {},
     "output_type": "execute_result"
    }
   ],
   "source": [
    "val tileSize = maxTileSize.toInt\n",
    "val pop = readRDD(tilePath, popKey, tileSize)"
   ]
  },
  {
   "cell_type": "code",
   "execution_count": 5,
   "metadata": {},
   "outputs": [
    {
     "data": {
      "text/plain": [
       "Name: Unknown Error\n",
       "Message: lastException: Throwable = null\n",
       "<console>:55: error: not found: value pop\n",
       "       val Seq(wA, wB) = Seq(nlKeyA, nlKeyB).map(readRDD(tilePath, _, tileSize)).map(wealthRaster(_, pop, crush.toFloat, topCode.toFloat))\n",
       "                                                                                                     ^\n",
       "StackTrace: "
      ]
     },
     "execution_count": 5,
     "metadata": {},
     "output_type": "execute_result"
    }
   ],
   "source": [
    "val Seq(wA, wB) = Seq(nlKeyA, nlKeyB).map(readRDD(tilePath, _, tileSize)).map(wealthRaster(_, pop, crush.toFloat, topCode.toFloat))"
   ]
  },
  {
   "cell_type": "code",
   "execution_count": 6,
   "metadata": {},
   "outputs": [
    {
     "data": {
      "text/plain": [
       "Name: Unknown Error\n",
       "Message: <console>:53: error: not found: value wA\n",
       "       val shapes = if (shapeId != \"false\") readShapeFile(tilePath, shapeKey, shapeId, wA.metadata) else readRDD(tilePath, shapeKey, tileSize)\n",
       "                                                                                       ^\n",
       "StackTrace: "
      ]
     },
     "execution_count": 6,
     "metadata": {},
     "output_type": "execute_result"
    }
   ],
   "source": [
    "val shapes = if (shapeId != \"false\") readShapeFile(tilePath, shapeKey, shapeId, wA.metadata) else readRDD(tilePath, shapeKey, tileSize)"
   ]
  },
  {
   "cell_type": "code",
   "execution_count": 7,
   "metadata": {},
   "outputs": [
    {
     "data": {
      "text/plain": [
       "Name: Unknown Error\n",
       "Message: <console>:51: error: not found: value wA\n",
       "       growth(wA, wB, shapes).collect()\n",
       "              ^\n",
       "<console>:51: error: not found: value wB\n",
       "       growth(wA, wB, shapes).collect()\n",
       "                  ^\n",
       "<console>:51: error: not found: value shapes\n",
       "       growth(wA, wB, shapes).collect()\n",
       "                      ^\n",
       "StackTrace: "
      ]
     },
     "execution_count": 7,
     "metadata": {},
     "output_type": "execute_result"
    }
   ],
   "source": [
    "implicit val ispark = spark\n",
    "growth(wA, wB, shapes).collect()"
   ]
  },
  {
   "cell_type": "code",
   "execution_count": 182,
   "metadata": {
    "collapsed": true
   },
   "outputs": [],
   "source": [
    "implicit val ispark = spark\n",
    "val Seq(a,b) = Seq(wA, wB).map(groupByRasterShapz(shapes, _))\n",
    "\n",
    "val l = a.zip(b).map{ case ((k, v1), (_, v2)) => (k, (v1(0), v2(0)))}\n",
    "val keys = a.keys.distinct.collect.toList "
   ]
  }
 ],
 "metadata": {
  "kernelspec": {
   "display_name": "Apache Toree - Scala",
   "language": "scala",
   "name": "apache_toree_scala"
  },
  "language_info": {
   "file_extension": ".scala",
   "name": "scala",
   "version": "2.11.8"
  }
 },
 "nbformat": 4,
 "nbformat_minor": 2
}
