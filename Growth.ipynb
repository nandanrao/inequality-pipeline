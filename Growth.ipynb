{
 "cells": [
  {
   "cell_type": "code",
   "execution_count": 1,
   "metadata": {
    "collapsed": true
   },
   "outputs": [],
   "source": [
    "import org.apache.spark.rdd.RDD\n",
    "import org.apache.spark.SparkContext\n",
    "import geotrellis.shapefile.ShapeFileReader\n",
    "import geotrellis.spark._\n",
    "import geotrellis.raster._\n",
    "import org.apache.spark.sql.{Dataset, SparkSession}\n",
    "import geotrellis.vector._"
   ]
  },
  {
   "cell_type": "code",
   "execution_count": 2,
   "metadata": {
    "collapsed": true
   },
   "outputs": [],
   "source": [
    "import edu.upf.inequality.pipeline.GroupByShape._\n",
    "import edu.upf.inequality.pipeline.IO._\n",
    "import edu.upf.inequality.pipeline.Growth._\n",
    "import edu.upf.inequality.pipeline.Wealth._"
   ]
  },
  {
   "cell_type": "code",
   "execution_count": 3,
   "metadata": {
    "collapsed": true
   },
   "outputs": [],
   "source": [
    "implicit val isc = sc\n",
    "val Array(tilePath, shapeKey, shapeId, maxTileSize, nlKeyA, nlKeyB, popKey, crush, topCode, outFile) = Array(\"upf-inequality-raw-geotifs\", \"tiny-rasters/municipalities-tiny.tif\", \"false\", \"16384\", \"tiny-rasters/2012-tiny.tif\", \"tiny-rasters/2013-tiny.tif\", \"tiny-rasters/pop-2013-tiny.tif\", \"4\", \"99999999\", \"growth-out-2\")"
   ]
  },
  {
   "cell_type": "code",
   "execution_count": 4,
   "metadata": {
    "collapsed": true
   },
   "outputs": [],
   "source": [
    "val tileSize = maxTileSize.toInt\n",
    "val pop = readRDD(tilePath, popKey, tileSize)"
   ]
  },
  {
   "cell_type": "code",
   "execution_count": 5,
   "metadata": {
    "collapsed": true
   },
   "outputs": [],
   "source": [
    "val Seq(wA, wB) = Seq(nlKeyA, nlKeyB).map(readRDD(tilePath, _, tileSize)).map(wealthRaster(_, pop, crush.toDouble, topCode.toDouble))"
   ]
  },
  {
   "cell_type": "code",
   "execution_count": 6,
   "metadata": {
    "collapsed": true
   },
   "outputs": [],
   "source": [
    "val shapes = if (shapeId != \"false\") readShapeFile(tilePath, shapeKey, shapeId, wA.metadata) else readRDD(tilePath, shapeKey, tileSize)"
   ]
  },
  {
   "cell_type": "code",
   "execution_count": null,
   "metadata": {},
   "outputs": [
    {
     "name": "stdout",
     "output_type": "stream",
     "text": [
      "Number of observations we are counting -------------------------------------\n"
     ]
    }
   ],
   "source": [
    "implicit val ispark = spark\n",
    "growth(wA, wB, shapes).collect()"
   ]
  },
  {
   "cell_type": "code",
   "execution_count": null,
   "metadata": {},
   "outputs": [],
   "source": [
    "pop.metadata"
   ]
  },
  {
   "cell_type": "code",
   "execution_count": null,
   "metadata": {},
   "outputs": [],
   "source": [
    "readRDD(tilePath, nlKeyA, tileSize).metadata"
   ]
  }
 ],
 "metadata": {
  "kernelspec": {
   "display_name": "Apache Toree - Scala",
   "language": "scala",
   "name": "apache_toree_scala"
  },
  "language_info": {
   "file_extension": ".scala",
   "name": "scala",
   "version": "2.11.8"
  }
 },
 "nbformat": 4,
 "nbformat_minor": 2
}
